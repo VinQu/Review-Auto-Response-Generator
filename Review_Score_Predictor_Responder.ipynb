{
  "nbformat": 4,
  "nbformat_minor": 0,
  "metadata": {
    "colab": {
      "name": "Review_Score_Predictor_Responder.ipynb",
      "provenance": [],
      "collapsed_sections": []
    },
    "kernelspec": {
      "name": "python3",
      "display_name": "Python 3"
    }
  },
  "cells": [
    {
      "cell_type": "code",
      "metadata": {
        "id": "C0ga1mGklDub",
        "outputId": "0cfa2aa3-1462-4a61-8daa-d845b4b9151d",
        "colab": {
          "base_uri": "https://localhost:8080/",
          "height": 255
        }
      },
      "source": [
        "!apt-get install openjdk-8-jdk-headless -qq > /dev/null\n",
        "import os\n",
        "os.environ[\"JAVA_HOME\"] = \"/usr/lib/jvm/java-8-openjdk-amd64\"\n",
        "!update-alternatives --set java /usr/lib/jvm/java-8-openjdk-amd64/jre/bin/java\n",
        "!pip install pyspark"
      ],
      "execution_count": 1,
      "outputs": [
        {
          "output_type": "stream",
          "text": [
            "update-alternatives: using /usr/lib/jvm/java-8-openjdk-amd64/jre/bin/java to provide /usr/bin/java (java) in manual mode\n",
            "Collecting pyspark\n",
            "\u001b[?25l  Downloading https://files.pythonhosted.org/packages/f0/26/198fc8c0b98580f617cb03cb298c6056587b8f0447e20fa40c5b634ced77/pyspark-3.0.1.tar.gz (204.2MB)\n",
            "\u001b[K     |████████████████████████████████| 204.2MB 69kB/s \n",
            "\u001b[?25hCollecting py4j==0.10.9\n",
            "\u001b[?25l  Downloading https://files.pythonhosted.org/packages/9e/b6/6a4fb90cd235dc8e265a6a2067f2a2c99f0d91787f06aca4bcf7c23f3f80/py4j-0.10.9-py2.py3-none-any.whl (198kB)\n",
            "\u001b[K     |████████████████████████████████| 204kB 43.7MB/s \n",
            "\u001b[?25hBuilding wheels for collected packages: pyspark\n",
            "  Building wheel for pyspark (setup.py) ... \u001b[?25l\u001b[?25hdone\n",
            "  Created wheel for pyspark: filename=pyspark-3.0.1-py2.py3-none-any.whl size=204612243 sha256=22973744a84699d227c9b6e596af1a60de6ed7438023907bc9a7c240ac436116\n",
            "  Stored in directory: /root/.cache/pip/wheels/5e/bd/07/031766ca628adec8435bb40f0bd83bb676ce65ff4007f8e73f\n",
            "Successfully built pyspark\n",
            "Installing collected packages: py4j, pyspark\n",
            "Successfully installed py4j-0.10.9 pyspark-3.0.1\n"
          ],
          "name": "stdout"
        }
      ]
    },
    {
      "cell_type": "code",
      "metadata": {
        "id": "beJRDceIlbnu"
      },
      "source": [
        "from pyspark import SparkFiles\n",
        "from pyspark.sql.types import *\n",
        "from pyspark.sql import SparkSession\n",
        "from pyspark.ml.feature import *\n",
        "from pyspark.ml.classification import *\n",
        "from pyspark.ml import Pipeline\n",
        "from pyspark.sql.functions import *\n",
        "from pyspark.ml.evaluation import BinaryClassificationEvaluator, MulticlassClassificationEvaluator\n",
        "import pandas as pd\n",
        "import json\n",
        "import random as rd"
      ],
      "execution_count": 2,
      "outputs": []
    },
    {
      "cell_type": "code",
      "metadata": {
        "id": "ZEeG-ZH0lcMa"
      },
      "source": [
        "spark = SparkSession.builder \\\n",
        "    .master(\"local[*]\") \\\n",
        "    .config(\"spark.driver.memory\", \"14g\") \\\n",
        "    .appName(\"CloudETLProject\") \\\n",
        "    .getOrCreate()"
      ],
      "execution_count": 3,
      "outputs": []
    },
    {
      "cell_type": "code",
      "metadata": {
        "id": "LT3vfNjWfrl3"
      },
      "source": [
        "# Define file locations. Please update with the correct file locations after downloading the proper files from this Google Drive link:\n",
        "# https://drive.google.com/drive/folders/1XARu2a6orQTGdpzL36-Rw20iuNPSM-yD?usp=sharing\n",
        "\n",
        "yelp_review_file = \"/content/drive/My Drive/Bootcamp Final Project/yelp_reviews.csv\"\n",
        "keywords_file = \"/content/drive/My Drive/Bootcamp Final Project/keywords.csv\"\n",
        "labels_file = \"/content/drive/My Drive/Bootcamp Final Project/labels.csv\"\n",
        "response_file = \"/content/drive/My Drive/Bootcamp Final Project/responses.csv\""
      ],
      "execution_count": null,
      "outputs": []
    },
    {
      "cell_type": "code",
      "metadata": {
        "id": "9IN9WouFlsDk",
        "outputId": "236ba720-791c-4112-c178-c8f379da2671",
        "colab": {
          "base_uri": "https://localhost:8080/",
          "height": 359
        }
      },
      "source": [
        "# Preview data\n",
        "reviews_df = pd.read_csv(yelp_review_file)\n",
        "reviews_df.head(10)"
      ],
      "execution_count": 54,
      "outputs": [
        {
          "output_type": "execute_result",
          "data": {
            "text/html": [
              "<div>\n",
              "<style scoped>\n",
              "    .dataframe tbody tr th:only-of-type {\n",
              "        vertical-align: middle;\n",
              "    }\n",
              "\n",
              "    .dataframe tbody tr th {\n",
              "        vertical-align: top;\n",
              "    }\n",
              "\n",
              "    .dataframe thead th {\n",
              "        text-align: right;\n",
              "    }\n",
              "</style>\n",
              "<table border=\"1\" class=\"dataframe\">\n",
              "  <thead>\n",
              "    <tr style=\"text-align: right;\">\n",
              "      <th></th>\n",
              "      <th>review_id</th>\n",
              "      <th>user_id</th>\n",
              "      <th>business_id</th>\n",
              "      <th>stars</th>\n",
              "      <th>useful</th>\n",
              "      <th>funny</th>\n",
              "      <th>cool</th>\n",
              "      <th>text</th>\n",
              "      <th>date</th>\n",
              "    </tr>\n",
              "  </thead>\n",
              "  <tbody>\n",
              "    <tr>\n",
              "      <th>0</th>\n",
              "      <td>xQY8N_XvtGbearJ5X4QryQ</td>\n",
              "      <td>OwjRMXRC0KyPrIlcjaXeFQ</td>\n",
              "      <td>-MhfebM0QIsKt87iDN-FNw</td>\n",
              "      <td>2</td>\n",
              "      <td>5</td>\n",
              "      <td>0</td>\n",
              "      <td>0</td>\n",
              "      <td>As someone who has worked with many museums, I...</td>\n",
              "      <td>2015-04-15 05:21:16</td>\n",
              "    </tr>\n",
              "    <tr>\n",
              "      <th>1</th>\n",
              "      <td>UmFMZ8PyXZTY2QcwzsfQYA</td>\n",
              "      <td>nIJD_7ZXHq-FX8byPMOkMQ</td>\n",
              "      <td>lbrU8StCq3yDfr-QMnGrmQ</td>\n",
              "      <td>1</td>\n",
              "      <td>1</td>\n",
              "      <td>1</td>\n",
              "      <td>0</td>\n",
              "      <td>I am actually horrified this place is still in...</td>\n",
              "      <td>2013-12-07 03:16:52</td>\n",
              "    </tr>\n",
              "    <tr>\n",
              "      <th>2</th>\n",
              "      <td>LG2ZaYiOgpr2DK_90pYjNw</td>\n",
              "      <td>V34qejxNsCbcgD8C0HVk-Q</td>\n",
              "      <td>HQl28KMwrEKHqhFrrDqVNQ</td>\n",
              "      <td>5</td>\n",
              "      <td>1</td>\n",
              "      <td>0</td>\n",
              "      <td>0</td>\n",
              "      <td>I love Deagan's. I do. I really do. The atmosp...</td>\n",
              "      <td>2015-12-05 03:18:11</td>\n",
              "    </tr>\n",
              "    <tr>\n",
              "      <th>3</th>\n",
              "      <td>i6g_oA9Yf9Y31qt0wibXpw</td>\n",
              "      <td>ofKDkJKXSKZXu5xJNGiiBQ</td>\n",
              "      <td>5JxlZaqCnk1MnbgRirs40Q</td>\n",
              "      <td>1</td>\n",
              "      <td>0</td>\n",
              "      <td>0</td>\n",
              "      <td>0</td>\n",
              "      <td>Dismal, lukewarm, defrosted-tasting \"TexMex\" g...</td>\n",
              "      <td>2011-05-27 05:30:52</td>\n",
              "    </tr>\n",
              "    <tr>\n",
              "      <th>4</th>\n",
              "      <td>6TdNDKywdbjoTkizeMce8A</td>\n",
              "      <td>UgMW8bLE0QMJDCkQ1Ax5Mg</td>\n",
              "      <td>IS4cv902ykd8wj1TR0N3-A</td>\n",
              "      <td>4</td>\n",
              "      <td>0</td>\n",
              "      <td>0</td>\n",
              "      <td>0</td>\n",
              "      <td>Oh happy day, finally have a Canes near my cas...</td>\n",
              "      <td>2017-01-14 21:56:57</td>\n",
              "    </tr>\n",
              "    <tr>\n",
              "      <th>5</th>\n",
              "      <td>L2O_INwlrRuoX05KSjc4eg</td>\n",
              "      <td>5vD2kmE25YBrbayKhykNxQ</td>\n",
              "      <td>nlxHRv1zXGT0c0K51q3jDg</td>\n",
              "      <td>5</td>\n",
              "      <td>2</td>\n",
              "      <td>0</td>\n",
              "      <td>0</td>\n",
              "      <td>This is definitely my favorite fast food sub s...</td>\n",
              "      <td>2013-05-07 07:25:25</td>\n",
              "    </tr>\n",
              "    <tr>\n",
              "      <th>6</th>\n",
              "      <td>ZayJ1zWyWgY9S_TRLT_y9Q</td>\n",
              "      <td>aq_ZxGHiri48TUXJlpRkCQ</td>\n",
              "      <td>Pthe4qk5xh4n-ef-9bvMSg</td>\n",
              "      <td>5</td>\n",
              "      <td>1</td>\n",
              "      <td>0</td>\n",
              "      <td>0</td>\n",
              "      <td>Really good place with simple decor, amazing f...</td>\n",
              "      <td>2015-11-05 23:11:05</td>\n",
              "    </tr>\n",
              "    <tr>\n",
              "      <th>7</th>\n",
              "      <td>lpFIJYpsvDxyph-kPzZ6aA</td>\n",
              "      <td>dsd-KNYKMpx6ma_sRWCSkQ</td>\n",
              "      <td>FNCJpSn0tL9iqoY3JC73qw</td>\n",
              "      <td>5</td>\n",
              "      <td>0</td>\n",
              "      <td>0</td>\n",
              "      <td>0</td>\n",
              "      <td>Awesome office and staff, very professional an...</td>\n",
              "      <td>2017-07-18 18:31:54</td>\n",
              "    </tr>\n",
              "    <tr>\n",
              "      <th>8</th>\n",
              "      <td>JA-xnyHytKiOIHl_ztnK9Q</td>\n",
              "      <td>P6apihD4ASf1vpPxHODxAQ</td>\n",
              "      <td>e_BiI4ej1CW1F0EyVLr-FQ</td>\n",
              "      <td>5</td>\n",
              "      <td>0</td>\n",
              "      <td>0</td>\n",
              "      <td>0</td>\n",
              "      <td>Most delicious authentic Italian I've had in t...</td>\n",
              "      <td>2015-02-16 06:48:47</td>\n",
              "    </tr>\n",
              "    <tr>\n",
              "      <th>9</th>\n",
              "      <td>z4BCgTkfNtCu4XY5Lp97ww</td>\n",
              "      <td>jOERvhmK6_lo_XGUBPws_w</td>\n",
              "      <td>Ws8V970-mQt2X9CwCuT5zw</td>\n",
              "      <td>4</td>\n",
              "      <td>3</td>\n",
              "      <td>0</td>\n",
              "      <td>1</td>\n",
              "      <td>I have been here twice. Very nice and laid bac...</td>\n",
              "      <td>2009-10-13 04:16:41</td>\n",
              "    </tr>\n",
              "  </tbody>\n",
              "</table>\n",
              "</div>"
            ],
            "text/plain": [
              "                review_id  ...                 date\n",
              "0  xQY8N_XvtGbearJ5X4QryQ  ...  2015-04-15 05:21:16\n",
              "1  UmFMZ8PyXZTY2QcwzsfQYA  ...  2013-12-07 03:16:52\n",
              "2  LG2ZaYiOgpr2DK_90pYjNw  ...  2015-12-05 03:18:11\n",
              "3  i6g_oA9Yf9Y31qt0wibXpw  ...  2011-05-27 05:30:52\n",
              "4  6TdNDKywdbjoTkizeMce8A  ...  2017-01-14 21:56:57\n",
              "5  L2O_INwlrRuoX05KSjc4eg  ...  2013-05-07 07:25:25\n",
              "6  ZayJ1zWyWgY9S_TRLT_y9Q  ...  2015-11-05 23:11:05\n",
              "7  lpFIJYpsvDxyph-kPzZ6aA  ...  2017-07-18 18:31:54\n",
              "8  JA-xnyHytKiOIHl_ztnK9Q  ...  2015-02-16 06:48:47\n",
              "9  z4BCgTkfNtCu4XY5Lp97ww  ...  2009-10-13 04:16:41\n",
              "\n",
              "[10 rows x 9 columns]"
            ]
          },
          "metadata": {
            "tags": []
          },
          "execution_count": 54
        }
      ]
    },
    {
      "cell_type": "code",
      "metadata": {
        "id": "RHwjGRZIl0uj",
        "outputId": "df3c5420-d015-48f2-9130-1300764c6b0a",
        "colab": {
          "base_uri": "https://localhost:8080/",
          "height": 204
        }
      },
      "source": [
        "# Load data into a DataFrame\n",
        "url = yelp_review_file\n",
        "spark.sparkContext.addFile(url)\n",
        "\n",
        "yelpSchema = StructType([\n",
        "    StructField(\"review_id\",StringType(), True),\n",
        "    StructField(\"user_id\",StringType(), True),\n",
        "    StructField(\"business_id\",StringType(), True),\n",
        "    StructField(\"stars\", IntegerType(), True),\n",
        "    StructField(\"useful\", StringType(), True),\n",
        "    StructField(\"funny\", StringType(), True),\n",
        "    StructField(\"cool\", StringType(), True),\n",
        "    StructField(\"text\", StringType(), True),\n",
        "    StructField(\"date\", StringType(), True)\n",
        "])\n",
        "\n",
        "df = spark.read.option('header', 'true').csv(SparkFiles.get(\"yelp_reviews.csv\"), schema=yelpSchema, sep=',')\n",
        "df.printSchema()"
      ],
      "execution_count": 5,
      "outputs": [
        {
          "output_type": "stream",
          "text": [
            "root\n",
            " |-- review_id: string (nullable = true)\n",
            " |-- user_id: string (nullable = true)\n",
            " |-- business_id: string (nullable = true)\n",
            " |-- stars: integer (nullable = true)\n",
            " |-- useful: string (nullable = true)\n",
            " |-- funny: string (nullable = true)\n",
            " |-- cool: string (nullable = true)\n",
            " |-- text: string (nullable = true)\n",
            " |-- date: string (nullable = true)\n",
            "\n"
          ],
          "name": "stdout"
        }
      ]
    },
    {
      "cell_type": "code",
      "metadata": {
        "id": "1_0IT9kBl-M2",
        "outputId": "de441629-5aa2-4dd9-d872-05526379c3d4",
        "colab": {
          "base_uri": "https://localhost:8080/",
          "height": 459
        }
      },
      "source": [
        "# Cleaning dataframe and preview\n",
        "df = df.filter(df.text.isNotNull())\n",
        "df = df.filter(df.useful.isNotNull())\n",
        "df = df.filter(df.date.isNotNull())\n",
        "df.show()"
      ],
      "execution_count": 6,
      "outputs": [
        {
          "output_type": "stream",
          "text": [
            "+--------------------+--------------------+--------------------+-----+--------------------+--------------------+--------------------+--------------------+--------------------+\n",
            "|           review_id|             user_id|         business_id|stars|              useful|               funny|                cool|                text|                date|\n",
            "+--------------------+--------------------+--------------------+-----+--------------------+--------------------+--------------------+--------------------+--------------------+\n",
            "|UmFMZ8PyXZTY2Qcwz...|nIJD_7ZXHq-FX8byP...|lbrU8StCq3yDfr-QM...|    1|                   1|                   1|                   0|\"I am actually ho...| paid and left. A...|\n",
            "|LG2ZaYiOgpr2DK_90...|V34qejxNsCbcgD8C0...|HQl28KMwrEKHqhFrr...|    5|                   1|                   0|                   0|I love Deagan's. ...| 2015-12-05 03:18:11|\n",
            "|6TdNDKywdbjoTkize...|UgMW8bLE0QMJDCkQ1...|IS4cv902ykd8wj1TR...|    4|                   0|                   0|                   0|\"Oh happy day, fi...| 2017-01-14 21:56:57|\n",
            "|L2O_INwlrRuoX05KS...|5vD2kmE25YBrbayKh...|nlxHRv1zXGT0c0K51...|    5|                   2|                   0|                   0|This is definitel...| 2013-05-07 07:25:25|\n",
            "|lpFIJYpsvDxyph-kP...|dsd-KNYKMpx6ma_sR...|FNCJpSn0tL9iqoY3J...|    5|                   0|                   0|                   0|Awesome office an...| 2017-07-18 18:31:54|\n",
            "|JA-xnyHytKiOIHl_z...|P6apihD4ASf1vpPxH...|e_BiI4ej1CW1F0EyV...|    5|                   0|                   0|                   0|Most delicious au...| 2015-02-16 06:48:47|\n",
            "|TfVth7UNfgilv4J3e...|s5j_CRBWDCCMDJ6r7...|PA61Rwk3AMwOEXHev...|    5|                   0|                   0|                   0|Maria is VERY goo...| 2013-12-28 21:02:55|\n",
            "|wJMjt5C2y1RKgY0Xb...|1YIQGP-a534nyksaw...|Naa6E0YU0Wr7jCuCE...|    5|                   3|                   0|                   0|We purchased new ...| 2015-07-03 21:48:51|\n",
            "|QCxPzh7cuxJrLd6A_...|qftVgPj_kRTildMDj...|Ns4tjgLfqR1qawGlN...|    5|                   0|                   0|                   0|Everything that m...| 2016-06-11 22:00:11|\n",
            "|qWHp2l2lysENZObh6...|5lb0POg2t-AkMFx66...|ZlCSsWS07JulSBIQl...|    5|                   1|                   0|                   0|Called for a 5:15...| 2015-05-26 10:36:47|\n",
            "|mjbs5CL4eMu4o6_Vt...|TF4C-F5iqavACQgKT...|7Ka9Pd8X9SRHs1D5E...|    1|                   0|                   0|                   0|If I could give l...| 2017-08-07 21:36:36|\n",
            "|bVTjZgRNq8Toxzvti...|2hRe26HSCAWbFRn5W...|d4qwVw4PcN-_2mK2o...|    1|                   0|                   0|                   0|10pm on a super b...| 2015-02-02 06:28:00|\n",
            "|Hy-gUXQh3RVhE8FLH...|kMkWON2lmw0s-M-fw...|_iGvLfEsqDwPUxRUA...|    1|                   0|                   0|                   0|Tried to have my ...| 2017-06-28 00:39:18|\n",
            "|TeX0eOIeZb_wpo86r...|RR-2nouBn408e3djx...|d4qwVw4PcN-_2mK2o...|    5|                   0|                   0|                   0|Holy heck this pl...| 2017-02-09 04:25:03|\n",
            "|vZvF9HpLUmP3dKUYq...|2Fi20wCPWrWWvuKDs...|veQpiduzq83yYc0jQ...|    5|                   0|                   0|                   0|I love the classe...| 2017-05-13 05:19:38|\n",
            "|XvLG7ReC8JZmBltOL...|-Co-ReNx_lXT1xL_R...|XZbuPXdyA0ZtTu3Az...|    4|                   0|                   1|                   0|\"As the previous ...| that's when i re...|\n",
            "|FOOD: fantastic. ...| more like the co...| at any rate it w...| null| moist and tender...| also very good. ...| just the right a...| come back every ...| is everything ok...|\n",
            "|-u8Oz_iSZACGwWW_p...|UreiTV1I9i-XF6_bJ...|d_q4avZYM1sOlQP7n...|    4|                   0|                   0|                   1|Always a fun outi...| 2018-04-15 11:13:11|\n",
            "|K-wdPGHbErfxbKK6P...|FCoXqPxuI7GRBYyzJ...|r4HkiC71nB9k8Fe8z...|    5|                   1|                   0|                   1|First time eating...| 2015-12-05 02:16:06|\n",
            "|01DNCgnW8K6xSyv4k...|XivuRnPq3D-K5cPiB...|oyjkEn5fAqcGNsBbq...|    1|                   0|                   0|                   0|Just... not good....| 2016-04-11 16:42:13|\n",
            "+--------------------+--------------------+--------------------+-----+--------------------+--------------------+--------------------+--------------------+--------------------+\n",
            "only showing top 20 rows\n",
            "\n"
          ],
          "name": "stdout"
        }
      ]
    },
    {
      "cell_type": "code",
      "metadata": {
        "id": "COr4eyYumNwv"
      },
      "source": [
        "# Add text length column\n",
        "df = df.withColumn('review_length', length(df['text']))"
      ],
      "execution_count": 7,
      "outputs": []
    },
    {
      "cell_type": "code",
      "metadata": {
        "id": "-9tkbrzxnAc4",
        "outputId": "d147eb90-a4c5-4bcc-aa01-9612ce2230eb",
        "colab": {
          "base_uri": "https://localhost:8080/",
          "height": 187
        }
      },
      "source": [
        "# Clean data to ensure star value is present\n",
        "df = df.filter(\"stars >= 1 and stars <= 5\")\n",
        "\n",
        "# Show star ratings\n",
        "df.select('stars').distinct().show()"
      ],
      "execution_count": 8,
      "outputs": [
        {
          "output_type": "stream",
          "text": [
            "+-----+\n",
            "|stars|\n",
            "+-----+\n",
            "|    1|\n",
            "|    3|\n",
            "|    5|\n",
            "|    4|\n",
            "|    2|\n",
            "+-----+\n",
            "\n"
          ],
          "name": "stdout"
        }
      ]
    },
    {
      "cell_type": "code",
      "metadata": {
        "id": "678FVCDMnGDY",
        "outputId": "8fd6717d-d8ba-45aa-f289-0133b106c7c8",
        "colab": {
          "base_uri": "https://localhost:8080/",
          "height": 34
        }
      },
      "source": [
        "# Sample the data\n",
        "sampled_df = df.sample(fraction=0.4, seed=42)\n",
        "\n",
        "# Count of sampled data\n",
        "sampled_df.count()"
      ],
      "execution_count": 9,
      "outputs": [
        {
          "output_type": "execute_result",
          "data": {
            "text/plain": [
              "64626"
            ]
          },
          "metadata": {
            "tags": []
          },
          "execution_count": 9
        }
      ]
    },
    {
      "cell_type": "code",
      "metadata": {
        "id": "i-0f2BR7nyy6",
        "outputId": "e65c3028-7896-4b6f-8a5a-4e4d58cad59b",
        "colab": {
          "base_uri": "https://localhost:8080/",
          "height": 459
        }
      },
      "source": [
        "# Clean and preview dataset for model training\n",
        "ready_df = sampled_df.select([\"text\", \"stars\", \"date\", \"review_length\"])\n",
        "ready_df.show()"
      ],
      "execution_count": 10,
      "outputs": [
        {
          "output_type": "stream",
          "text": [
            "+--------------------+-----+-------------------+-------------+\n",
            "|                text|stars|               date|review_length|\n",
            "+--------------------+-----+-------------------+-------------+\n",
            "|This is definitel...|    5|2013-05-07 07:25:25|          523|\n",
            "|We purchased new ...|    5|2015-07-03 21:48:51|          447|\n",
            "|Tried to have my ...|    1|2017-06-28 00:39:18|          541|\n",
            "|Always a fun outi...|    4|2018-04-15 11:13:11|          146|\n",
            "|Just... not good....|    1|2016-04-11 16:42:13|          988|\n",
            "|A margarita in cl...|    1|2015-01-18 16:12:27|          132|\n",
            "|Food was piping h...|    3|2015-07-03 21:35:49|          292|\n",
            "|The tables and fl...|    1|2012-12-02 06:50:10|          198|\n",
            "|Worst pedicure ev...|    1|2016-07-03 17:50:57|          298|\n",
            "|I had an oil chan...|    1|2017-11-06 20:58:23|          466|\n",
            "|This was my first...|    5|2017-01-14 21:03:01|          197|\n",
            "|I went into this ...|    1|2018-08-04 22:27:08|          428|\n",
            "|Some cretin at a ...|    5|2005-05-11 05:05:13|          615|\n",
            "|I tried chicken S...|    5|2016-09-18 15:43:56|          203|\n",
            "|The reviews for t...|    2|2016-03-07 00:34:42|         1401|\n",
            "|We love Cafe Amer...|    5|2018-08-24 00:20:02|          461|\n",
            "|I went up too my ...|    1|2016-01-17 06:13:07|          563|\n",
            "|I didn't really h...|    3|2010-10-05 19:15:52|          394|\n",
            "|I went for the se...|    5|2013-06-24 05:03:22|          184|\n",
            "|The worst hotel e...|    1|2014-03-14 11:41:29|          393|\n",
            "+--------------------+-----+-------------------+-------------+\n",
            "only showing top 20 rows\n",
            "\n"
          ],
          "name": "stdout"
        }
      ]
    },
    {
      "cell_type": "code",
      "metadata": {
        "id": "8uBBSKoIpZ5B"
      },
      "source": [
        "# Split training and testing data\n",
        "training, testing = ready_df.randomSplit([0.7, 0.3], seed = 42)"
      ],
      "execution_count": 11,
      "outputs": []
    },
    {
      "cell_type": "code",
      "metadata": {
        "id": "_mMwembWoONL"
      },
      "source": [
        "# Build model\n",
        "def build_trigrams(inputCol=[\"text\",\"stars\"], n=3):\n",
        "    tokenizer = [Tokenizer(inputCol=\"text\", outputCol=\"words\")]\n",
        "    ngrams = [\n",
        "        NGram(n=i, inputCol=\"words\", outputCol=\"{0}_grams\".format(i))\n",
        "        for i in range(1, n + 1)\n",
        "    ]\n",
        "\n",
        "    cv = [\n",
        "        CountVectorizer(vocabSize=2**14,inputCol=\"{0}_grams\".format(i),\n",
        "            outputCol=\"{0}_tf\".format(i))\n",
        "        for i in range(1, n + 1)\n",
        "    ]\n",
        "    idf = [IDF(inputCol=\"{0}_tf\".format(i), outputCol=\"{0}_tfidf\".format(i), minDocFreq=5) for i in range(1, n + 1)]\n",
        "\n",
        "    assembler = [VectorAssembler(\n",
        "        inputCols=[\"{0}_tfidf\".format(i) for i in range(1, n + 1)],\n",
        "        outputCol=\"features\"\n",
        "    )]\n",
        "    label_stringIdx = [StringIndexer(inputCol = \"stars\", outputCol = \"label\")]\n",
        "    selector = [ChiSqSelector(numTopFeatures=2**15,featuresCol='rawFeatures', outputCol=\"features\")]\n",
        "    lr = [LogisticRegression(maxIter=100)]\n",
        "    return Pipeline(stages=tokenizer + ngrams + cv + idf+ assembler + label_stringIdx + lr)"
      ],
      "execution_count": 12,
      "outputs": []
    },
    {
      "cell_type": "code",
      "metadata": {
        "id": "3xronr7eoycX"
      },
      "source": [
        "# Run dataset through model\n",
        "trigram_pipelineFit = build_trigrams().fit(training)\n",
        "test_results = trigram_pipelineFit.transform(testing)"
      ],
      "execution_count": 13,
      "outputs": []
    },
    {
      "cell_type": "code",
      "metadata": {
        "id": "OWleH5-QpF5U",
        "outputId": "73cfb221-245d-4dae-8e03-445ed705789a",
        "colab": {
          "base_uri": "https://localhost:8080/",
          "height": 34
        }
      },
      "source": [
        "# Calculate model accuracy\n",
        "predictions = test_results.select(col(\"label\").cast(\"Float\"),col(\"prediction\"))\n",
        "evaluator = MulticlassClassificationEvaluator(labelCol=\"label\", predictionCol=\"prediction\", metricName=\"accuracy\")\n",
        "accuracy = evaluator.evaluate(predictions)\n",
        "print(\"Model Accuracy = %g\" % accuracy)"
      ],
      "execution_count": 14,
      "outputs": [
        {
          "output_type": "stream",
          "text": [
            "Model Accuracy = 0.621522\n"
          ],
          "name": "stdout"
        }
      ]
    },
    {
      "cell_type": "code",
      "metadata": {
        "id": "ryverKP2pGGd"
      },
      "source": [
        "# Input custom review\n",
        "input_review = \"I loved this restaurant! Our servers were great, and very responsive to our needs. We will be recommending the experience to our friends.\"\n",
        "\n",
        "# Load review as Dataframe\n",
        "customer_review_df = spark.createDataFrame([(input_review, 3)],[\"text\",\"stars\"])"
      ],
      "execution_count": 34,
      "outputs": []
    },
    {
      "cell_type": "code",
      "metadata": {
        "id": "N-0M2GE4pGKI"
      },
      "source": [
        "# Run review through model\n",
        "prediction_score = trigram_pipelineFit.transform(customer_review_df)"
      ],
      "execution_count": 35,
      "outputs": []
    },
    {
      "cell_type": "code",
      "metadata": {
        "id": "oakCvCoWpGM9",
        "outputId": "6a815039-c654-4910-87d1-c7ae41bc651a",
        "colab": {
          "base_uri": "https://localhost:8080/",
          "height": 119
        }
      },
      "source": [
        "# Show scores\n",
        "prediction_score.select([\"rawPrediction\",\"probability\",\"prediction\"]).show(truncate=False)"
      ],
      "execution_count": 36,
      "outputs": [
        {
          "output_type": "stream",
          "text": [
            "+-----------------------------------------------------------------------------------------------+----------------------------------------+----------+\n",
            "|rawPrediction                                                                                  |probability                             |prediction|\n",
            "+-----------------------------------------------------------------------------------------------+----------------------------------------+----------+\n",
            "|[1192.3243233855812,577.4675053796178,-705.3900912694168,-150.69450046664636,-913.707237029136]|[1.0,9.355710602053846E-268,0.0,0.0,0.0]|0.0       |\n",
            "+-----------------------------------------------------------------------------------------------+----------------------------------------+----------+\n",
            "\n"
          ],
          "name": "stdout"
        }
      ]
    },
    {
      "cell_type": "code",
      "metadata": {
        "id": "c0ijigvArmLe"
      },
      "source": [
        "# Calculate final star ratining\n",
        "score = []\n",
        "stars = []\n",
        "for row in prediction_score.rdd.collect():\n",
        "    score.append(row)\n",
        "prediction_index = score[0][\"prediction\"]\n",
        "star_list = training.groupBy(\"stars\").count().orderBy(desc(\"count\"))\n",
        "for row in star_list.rdd.collect():\n",
        "    stars.append(row)\n",
        "\n",
        "prediction = stars[int(prediction_index)][\"stars\"]"
      ],
      "execution_count": 37,
      "outputs": []
    },
    {
      "cell_type": "code",
      "metadata": {
        "id": "dEgn9fmiT2I_",
        "outputId": "8ae7374a-85a2-4c25-907f-2becba4b2aa6",
        "colab": {
          "base_uri": "https://localhost:8080/",
          "height": 34
        }
      },
      "source": [
        "# Show prediction\n",
        "print(\"The star rating for this review is \" + str(prediction))"
      ],
      "execution_count": 38,
      "outputs": [
        {
          "output_type": "stream",
          "text": [
            "The star rating for this review is 5\n"
          ],
          "name": "stdout"
        }
      ]
    },
    {
      "cell_type": "code",
      "metadata": {
        "id": "_nBAqFdesxNM"
      },
      "source": [
        "# Load files for response generation\n",
        "keywords_df = pd.read_csv(keywords_file)\n",
        "labels_df = pd.read_csv(labels_file)\n",
        "responses_df = pd.read_csv(response_file)"
      ],
      "execution_count": 39,
      "outputs": []
    },
    {
      "cell_type": "code",
      "metadata": {
        "id": "xC_jDV-XUWou"
      },
      "source": [
        "# Create list with response data\n",
        "\n",
        "# Categories\n",
        "keywords = categories_df.Item.to_list()\n",
        "categories = categories_df.Category.to_list()\n",
        "\n",
        "# Labels\n",
        "labels_list = labels_df.labels.to_list()\n",
        "label_list = labels_df.label.to_list()\n",
        "\n",
        "# Responses\n",
        "response_category = responses_df.category.to_list()\n",
        "five_star_responses = responses_df.five_star_responses.to_list()\n",
        "four_star_responses = responses_df.four_star_responses.to_list()\n",
        "three_star_responses = responses_df.three_star_responses.to_list()\n",
        "two_star_responses = responses_df.two_star_responses.to_list()\n",
        "one_star_responses = responses_df.one_star_responses.to_list()"
      ],
      "execution_count": 40,
      "outputs": []
    },
    {
      "cell_type": "code",
      "metadata": {
        "id": "Cm7l_rWVVQou"
      },
      "source": [
        "# Clean responses for manipulation\n",
        "five_star_responses = [str(w) for w in five_star_responses]\n",
        "four_star_responses = [str(w) for w in four_star_responses]\n",
        "three_star_responses = [str(w) for w in three_star_responses]\n",
        "two_star_responses = [str(w) for w in two_star_responses]\n",
        "one_star_responses = [str(w) for w in one_star_responses]\n",
        "\n",
        "# Clean empty response spots\n",
        "five_star_responses = [w.replace(\"nan\",\"\") for w in five_star_responses]\n",
        "four_star_responses = [w.replace(\"nan\",\"\") for w in four_star_responses]\n",
        "three_star_responses = [w.replace(\"nan\",\"\") for w in three_star_responses]\n",
        "two_star_responses = [w.replace(\"nan\",\"\") for w in two_star_responses]\n",
        "one_star_responses = [w.replace(\"nan\",\"\") for w in one_star_responses]"
      ],
      "execution_count": 41,
      "outputs": []
    },
    {
      "cell_type": "code",
      "metadata": {
        "id": "6oOcBVjcBrS2"
      },
      "source": [
        "# Clean and format review to generate correct response\n",
        "punctuation = '''!()-[]{};:'\"\\,<>./?@#$%^&*_~'''\n",
        "for punc in input_review:\n",
        "  if punc in punctuation:\n",
        "    input_review = input_review.replace(punc,\"\")"
      ],
      "execution_count": 42,
      "outputs": []
    },
    {
      "cell_type": "code",
      "metadata": {
        "id": "T51K4cSwCqDF"
      },
      "source": [
        "# Turn review into list to analyze by word\n",
        "custom_review = input_review\n",
        "custom_review_list = list(custom_review.split(\" \"))"
      ],
      "execution_count": 43,
      "outputs": []
    },
    {
      "cell_type": "code",
      "metadata": {
        "id": "8OygI971VBNU"
      },
      "source": [
        "# Check is review needs a generic response or category specific response\n",
        "for word in custom_review_list:\n",
        "  if word in keywords:\n",
        "    list_number = keywords.index(word)\n",
        "    wildcard = \"\"\n",
        "    wildcard = word\n",
        "    review_category = categories[list_number]\n",
        "    response_category_no = response_category.index(review_category)\n",
        "    break\n",
        "  else:\n",
        "    generic_index_numbs = []\n",
        "    generic_index = -1\n",
        "    for word in response_category:\n",
        "      if word == \"generic\":\n",
        "        generic_index = response_category.index(word, generic_index + 1)\n",
        "        generic_index_numbs.append(generic_index)\n",
        "    response_category_no = rd.choice(generic_index_numbs)"
      ],
      "execution_count": 44,
      "outputs": []
    },
    {
      "cell_type": "code",
      "metadata": {
        "id": "PVVZhLy3pp7W"
      },
      "source": [
        "# Select initial response template\n",
        "if prediction == 5:\n",
        "  response = five_star_responses[response_category_no]\n",
        "elif prediction == 4:\n",
        "  response = four_star_responses[response_category_no]\n",
        "elif prediction == 3:\n",
        "  response = three_star_responses[response_category_no]\n",
        "elif prediction == 2:\n",
        "  response = two_star_responses[response_category_no]\n",
        "else:\n",
        "  response = one_star_responses[response_category_no]"
      ],
      "execution_count": 45,
      "outputs": []
    },
    {
      "cell_type": "code",
      "metadata": {
        "id": "zGYzI5twSGmf"
      },
      "source": [
        "# Check if reponse is missing and replace with generic response\n",
        "if response == \"\":\n",
        "  response_category_no = rd.choice(generic_index_numbs)\n",
        "  if prediction == 5:\n",
        "    response = five_star_responses[response_category_no]\n",
        "  elif prediction == 4:\n",
        "    response = four_star_responses[response_category_no]\n",
        "  elif prediction == 3:\n",
        "    response = three_star_responses[response_category_no]\n",
        "  elif prediction == 2:\n",
        "    response = two_star_responses[response_category_no]\n",
        "  else:\n",
        "    response = one_star_responses[response_category_no]"
      ],
      "execution_count": 46,
      "outputs": []
    },
    {
      "cell_type": "code",
      "metadata": {
        "id": "F2Uv-GHDPori"
      },
      "source": [
        "# Break response down to find wildcard words\n",
        "response_word_list = list(response.split(\" \"))\n",
        "brackets = [\"{\",\"}\"]\n",
        "wildcard_count = 0\n",
        "for word in response_word_list:\n",
        "  if brackets[0] in word:\n",
        "    wildcard_count = wildcard_count + 1"
      ],
      "execution_count": 47,
      "outputs": []
    },
    {
      "cell_type": "code",
      "metadata": {
        "id": "TmxVz1Hiszsf"
      },
      "source": [
        "# Find and replace wildcard words to complete response\n",
        "for x in range(wildcard_count):\n",
        "  open_bracket = response.index(brackets[0]) + 1\n",
        "  close_bracket = response.index(brackets[1])\n",
        "  wildcard_word = response[open_bracket:close_bracket]\n",
        "  if wildcard_word in categories:\n",
        "    response = response.replace(brackets[0]+wildcard_word+brackets[1], wildcard)\n",
        "  else:\n",
        "    label_no = labels_list.index(wildcard_word)\n",
        "    wildcard = label_list[label_no]\n",
        "    response = response.replace(brackets[0]+wildcard_word+brackets[1], wildcard)"
      ],
      "execution_count": 48,
      "outputs": []
    },
    {
      "cell_type": "code",
      "metadata": {
        "id": "PoguBG8_646z",
        "outputId": "0948e6e1-3bb8-4136-d316-7e9b50980bf8",
        "colab": {
          "base_uri": "https://localhost:8080/",
          "height": 34
        }
      },
      "source": [
        "# Display finished response\n",
        "print(response)"
      ],
      "execution_count": 49,
      "outputs": [
        {
          "output_type": "stream",
          "text": [
            "We’re glad you enjoyed your meal! We hope to see you at Panda Mick's again soon.\n"
          ],
          "name": "stdout"
        }
      ]
    }
  ]
}